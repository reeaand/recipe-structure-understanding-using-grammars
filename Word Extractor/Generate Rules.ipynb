{
 "cells": [
  {
   "cell_type": "code",
   "execution_count": 3,
   "metadata": {},
   "outputs": [],
   "source": [
    "def read_words(filename):\n",
    "    file = open(filename + '.txt', 'r')\n",
    "    words = file.readlines()\n",
    "    print(\"File count: \",len(words))\n",
    "    length = len(words)\n",
    "    for index in range(length):\n",
    "        words[index] = words[index].strip()\n",
    "    file.close()\n",
    "    return words"
   ]
  },
  {
   "cell_type": "code",
   "execution_count": 4,
   "metadata": {},
   "outputs": [],
   "source": [
    "def get_words(filename):\n",
    "    words = read_words(filename)\n",
    "    words += read_words(filename+'2')\n",
    "    print(\"Total count: \", len(words))\n",
    "    return words"
   ]
  },
  {
   "cell_type": "code",
   "execution_count": 5,
   "metadata": {},
   "outputs": [],
   "source": [
    "def set_frequency(words):\n",
    "    fv = dict()\n",
    "    for word in words:\n",
    "        if word in fv:\n",
    "            fv[word] = fv[word] + 1\n",
    "        else:\n",
    "            fv[word] = 1\n",
    "    return fv"
   ]
  },
  {
   "cell_type": "code",
   "execution_count": 12,
   "metadata": {},
   "outputs": [],
   "source": [
    "def write_lex_code(words, filename, code):\n",
    "    f = open(\"unfiltered-\" + filename + \".txt\", \"w\")\n",
    "    for word, value in words:\n",
    "        to_write = \"[\" + word[0].upper() + word[0] + \"]\" + word[1:]\n",
    "        if filename == 'verbs':\n",
    "            to_write += \"{S}\"\n",
    "        else:\n",
    "            to_write += \"   \"\n",
    "        to_write += \"\\t\\t\\t\\t\\t\\t\\t\\t\\t\"\n",
    "        if len(word) < 9:\n",
    "            to_write += '\\t'\n",
    "        to_write += \"{return \" + code + \";}\\n\"\n",
    "        f.write(to_write)\n",
    "    \n",
    "    f.close()"
   ]
  },
  {
   "cell_type": "code",
   "execution_count": 7,
   "metadata": {},
   "outputs": [],
   "source": [
    "def run(filename, code):\n",
    "    words = get_words(filename)\n",
    "    fv = set_frequency(words)\n",
    "    sorted_words = sorted(fv.items(), key=lambda x: x[1], reverse=True)\n",
    "    print(\"Unique count: \", len(sorted_words))\n",
    "    print(sorted_words)\n",
    "    write_lex_code(sorted_words, filename, code)"
   ]
  },
  {
   "cell_type": "code",
   "execution_count": 65,
   "metadata": {
    "scrolled": true
   },
   "outputs": [
    {
     "name": "stdout",
     "output_type": "stream",
     "text": [
      "File count:  28074\n",
      "File count:  12999\n",
      "Total count:  41073\n",
      "Unique count:  678\n",
      "[('add', 3997), ('stir', 1656), ('transfer', 1433), ('cover', 1250), ('cook', 1177), ('preheat', 988), ('be', 979), ('sprinkle', 963), ('serve', 906), ('bring', 848), ('remove', 835), ('are', 809), ('bake', 799), ('place', 747), ('mix', 731), ('cool', 695), ('let', 693), ('pour', 662), ('boil', 631), ('heat', 552), ('simmer', 518), ('stand', 514), ('cut', 507), ('spread', 503), ('whisk', 495), ('reduce', 493), ('beat', 472), ('drain', 448), ('combine', 428), ('toss', 426), ('chill', 393), ('refrigerate', 376), ('arrange', 372), ('spoon', 360), ('taste', 351), ('turn', 348), ('keep', 347), ('season', 343), ('melt', 340), ('blend', 307), ('rack', 296), ('do', 294), ('top', 273), ('divide', 264), ('return', 262), ('brush', 241), ('fold', 226), ('set', 221), ('put', 214), ('roast', 205), ('continue', 174), ('skillet', 161), ('sauté', 155), ('line', 154), ('roll', 147), ('press', 143), ('platter', 137), ('garnish', 136), ('make', 135), ('discard', 133), ('form', 130), ('repeat', 126), ('sift', 125), ('wrap', 121), ('rub', 107), ('run', 106), ('loosen', 106), ('increase', 103), ('drizzle', 102), ('bowl', 102), ('reserve', 101), ('prepare', 97), ('soften', 97), ('peel', 92), ('grill', 88), ('hold', 86), ('begin', 84), ('plate', 83), ('fill', 82), ('sauce', 80), ('store', 78), ('trim', 77), ('ladle', 77), ('uncover', 76), ('bite', 76), ('chop', 72), ('freeze', 72), ('rewarm', 71), ('have', 70), ('use', 69), ('slice', 68), ('strain', 68), ('spray', 64), ('invert', 61), ('drop', 60), ('flatten', 56), ('seal', 55), ('flour', 53), ('release', 53), ('scrape', 53), ('squeeze', 51), ('allow', 51), ('rinse', 50), ('touch', 49), ('pan', 47), ('gather', 47), ('lift', 45), ('shake', 44), ('measure', 43), ('fit', 42), ('smooth', 41), ('puree', 41), ('soak', 39), ('come', 39), ('maintain', 39), ('prevent', 38), ('shrimp', 37), ('crosswise', 36), ('tent', 36), ('scoop', 36), ('butter', 36), ('give', 35), ('grind', 35), ('pull', 34), ('leave', 34), ('rise', 32), ('grease', 31), ('purée', 31), ('push', 30), ('oil', 30), ('reheat', 30), ('salt', 29), ('tie', 29), ('adhere', 29), ('marinate', 29), ('break', 28), ('lengthwise', 28), ('brown', 28), ('dip', 27), ('mash', 27), ('dredge', 27), ('process', 27), ('pipe', 25), ('crimp', 25), ('slide', 25), ('appear', 25), ('thin', 24), ('cake', 24), ('work', 23), ('shape', 23), ('coat', 22), ('curry', 22), ('dry', 22), ('pulse', 22), ('soup', 22), ('moisten', 22), ('dissolve', 21), ('stop', 21), ('toast', 21), ('open', 20), ('seam', 20), ('start', 19), ('thicken', 19), ('enclose', 19), ('clean', 19), ('fry', 19), ('crack', 19), ('drip', 18), ('adjust', 18), ('dough', 18), ('knead', 18), ('prick', 18), ('pierce', 18), ('want', 17), ('look', 17), ('mixture', 17), ('moderate', 17), ('stick', 17), ('lighten', 17), ('handle', 17), ('glaze', 17), ('burn', 17), ('take', 16), ('help', 16), ('reach', 16), ('steam', 16), ('swirl', 16), ('scatter', 16), ('see', 15), ('baste', 15), ('pass', 15), ('wash', 15), ('wipe', 14), ('saucepan', 14), ('lower', 14), ('surround', 14), ('bubble', 14), ('avoid', 14), ('crush', 14), ('warm', 14), ('like', 13), ('position', 13), ('dot', 13), ('braise', 13), ('rest', 12), ('pat', 12), ('side', 12), ('skim', 12), ('sear', 12), ('tap', 11), ('distribute', 11), ('move', 11), ('incorporate', 11), ('become', 11), ('sit', 11), ('crumble', 11), ('wish', 10), ('separate', 10), ('halve', 10), ('broth', 10), ('syrup', 10), ('remain', 10), ('tilt', 10), ('insert', 10), ('paste', 10), ('get', 10), ('total', 10), ('burst', 10), ('flip', 10), ('deglaze', 10), ('layer', 10), ('grate', 10), ('smoke', 9), ('cornstarch', 9), ('sage', 9), ('catch', 9), ('ginger', 9), ('check', 9), ('dutch', 9), ('replace', 9), ('extract', 9), ('force', 9), ('overbeat', 9), ('wilt', 9), ('need', 9), ('dijon', 8), ('score', 8), ('fall', 8), ('quarter', 8), ('tear', 8), ('overlap', 8), ('assemble', 8), ('close', 8), ('stack', 8), ('pepper', 7), ('feel', 7), ('pound', 7), ('lukewarm', 7), ('blender', 7), ('chicken', 7), ('stew', 7), ('rotate', 7), ('pop', 7), ('submerge', 7), ('absorb', 7), ('foam', 7), ('microwave', 7), ('harden', 7), ('hang', 7), ('frost', 7), ('crisp', 7), ('pack', 6), ('dollop', 6), ('cream', 6), ('light', 6), ('thread', 6), ('snap', 6), ('create', 6), ('settle', 6), ('punch', 6), ('rectangle', 6), ('firm', 6), ('compact', 6), ('fat', 6), ('split', 6), ('unfold', 6), ('lay', 6), ('eat', 5), ('worry', 5), ('escape', 5), ('high', 5), ('dice', 5), ('carve', 5), ('draw', 5), ('attach', 5), ('raise', 5), ('find', 5), ('substitute', 5), ('edge', 5), ('overbake', 5), ('dump', 5), ('curdle', 5), ('wear', 5), ('smear', 5), ('mince', 5), ('whip', 5), ('straddle', 5), ('crust', 5), ('seem', 5), ('caramelize', 5), ('decorate', 5), ('mark', 5), ('finish', 4), ('dust', 4), ('poke', 4), ('test', 4), ('splatter', 4), ('eliminate', 4), ('alternate', 4), ('float', 4), ('yield', 4), ('vary', 4), ('concentrate', 4), ('lemon', 4), ('switch', 4), ('pinch', 4), ('crabmeat', 4), ('develop', 4), ('sheet', 4), ('vinegar', 4), ('towel', 4), ('bacon', 4), ('unroll', 4), ('unmold', 4), ('shrink', 4), ('follow', 4), ('clump', 4), ('dowel', 4), ('secure', 3), ('thickness', 3), ('kale', 3), ('deflate', 3), ('fish', 3), ('omit', 3), ('try', 3), ('kettle', 3), ('twist', 3), ('snip', 3), ('sherry', 3), ('scant', 3), ('tenderloin', 3), ('lock', 3), ('pink', 3), ('ground', 3), ('spatter', 3), ('tender', 3), ('go', 3), ('wait', 3), ('cayenne', 3), ('flow', 3), ('resemble', 3), ('custard', 3), ('coarse', 3), ('unwrap', 3), ('slip', 3), ('prefer', 3), ('enjoy', 3), ('sieve', 3), ('cardamom', 3), ('defrost', 3), ('paper', 3), ('drape', 3), ('evaporate', 3), ('overwork', 3), ('sound', 3), ('thaw', 3), ('extend', 3), ('puff', 3), ('equal', 3), ('squash', 3), ('meld', 3), ('core', 3), ('stay', 2), ('slather', 2), ('rewhisk', 2), ('accommodate', 2), ('bend', 2), ('overhang', 2), ('colander', 2), ('chocolate', 2), ('bind', 2), ('sink', 2), ('re', 2), ('basil', 2), ('applesauce', 2), ('liqueur', 2), ('roquefort', 2), ('leeks', 2), ('hack', 2), ('feta', 2), ('cooler', 2), ('spring', 2), ('mediumhigh', 2), ('chunky', 2), ('chile', 2), ('scorch', 2), ('proceed', 2), ('springform', 2), ('apply', 2), ('room', 2), ('butterfly', 2), ('produce', 2), ('reassemble', 2), ('change', 2), ('stem', 2), ('tagine', 2), ('cauliflower', 2), ('pile', 2), ('mound', 2), ('bag', 2), ('decrease', 2), ('expose', 2), ('ensure', 2), ('reinforce', 2), ('flame', 2), ('align', 2), ('empty', 2), ('runny', 2), ('relish', 2), ('roux', 2), ('center', 2), ('expand', 2), ('round', 2), ('skewer', 2), ('pastry', 2), ('seed', 2), ('buttercream', 2), ('stiffen', 2), ('build', 2), ('golden', 2), ('oven', 2), ('allspice', 2), ('bunch', 2), ('dish', 2), ('level', 2), ('meet', 2), ('rimmed', 1), ('truss', 1), ('rain', 1), ('result', 1), ('understand', 1), ('beef', 1), ('muffin', 1), ('11x7', 1), ('grayish', 1), ('redistribute', 1), ('gizzard', 1), ('deserve', 1), ('steak', 1), ('aerate', 1), ('whack', 1), ('cling', 1), ('crosshatch', 1), ('infuse', 1), ('direct', 1), ('oregano', 1), ('opener', 1), ('support', 1), ('spill', 1), ('pureé', 1), ('temperature', 1), ('cup', 1), ('batter', 1), ('correct', 1), ('spatchcock', 1), ('splay', 1), ('hear', 1), ('gratin', 1), ('mediumlow', 1), ('hollow', 1), ('recoat', 1), ('sweat', 1), ('remind', 1), ('erupt', 1), ('astound', 1), ('overwhelm', 1), ('ratchet', 1), ('enrich', 1), ('flavor', 1), ('caraway', 1), ('present', 1), ('love', 1), ('think', 1), ('clear', 1), ('swim', 1), ('dig', 1), ('tray', 1), ('tuna', 1), ('log', 1), ('soda', 1), ('sleeve', 1), ('risotto', 1), ('vegetable', 1), ('throw', 1), ('know', 1), ('say', 1), ('dissipate', 1), ('gingerroot', 1), ('swordfish', 1), ('dome', 1), ('order', 1), ('hull', 1), ('spell', 1), ('ice', 1), ('lend', 1), ('read', 1), ('opaque', 1), ('rebond', 1), ('react', 1), ('coagulate', 1), ('poach', 1), ('spinach', 1), ('overblend', 1), ('nonstick', 1), ('team', 1), ('catfish', 1), ('render', 1), ('encircle', 1), ('hardwood', 1), ('margarine', 1), ('reroll', 1), ('call', 1), ('plunge', 1), ('cheddar', 1), ('porcini', 1), ('rim', 1), ('devein', 1), ('heap', 1), ('tighten', 1), ('disturb', 1), ('stovetop', 1), ('chuck', 1), ('paddle', 1), ('undercook', 1), ('rindless', 1), ('ignite', 1), ('square', 1), ('wasabi', 1), ('reattach', 1), ('sautè', 1), ('wring', 1), ('affect', 1), ('damp', 1), ('gill', 1), ('steep', 1), ('straighten', 1), ('buy', 1), ('mind', 1), ('tend', 1), ('discolor', 1), ('flute', 1), ('garbanzo', 1), ('quinoa', 1), ('rigate', 1), ('underbeat', 1), ('tuck', 1), ('reshape', 1), ('lie', 1), ('strip', 1), ('lentil', 1), ('register', 1), ('end', 1), ('bundt', 1), ('dunk', 1), ('clove', 1), ('rice', 1), ('smarten', 1), ('walk', 1), ('aflame', 1), ('die', 1), ('cross', 1), ('reposition', 1), ('marinade', 1), ('trace', 1), ('superfine', 1), ('tail', 1), ('stain', 1), ('crowd', 1), ('lavender', 1), ('splash', 1), ('cheesecake', 1), ('pick', 1), ('crab', 1), ('lettuce', 1), ('expel', 1), ('seperate', 1), ('distort', 1), ('proofed', 1), ('proof', 1), ('relax', 1), ('toughen', 1), ('facilitate', 1), ('froth', 1), ('flake', 1), ('broil', 1), ('rap', 1), ('double', 1), ('blanch', 1), ('temper', 1), ('soufflé', 1), ('save', 1), ('swell', 1), ('gravy', 1), ('watch', 1), ('charcoal', 1), ('head', 1), ('ricotta', 1), ('tart', 1), ('salad', 1), ('foil', 1), ('shave', 1), ('pork', 1), ('paprika', 1), ('springy', 1), ('feeze', 1), ('forget', 1), ('moist', 1), ('overprocess', 1), ('pit', 1), ('tangerine', 1), ('milk', 1), ('standard', 1), ('repat', 1), ('lade', 1), ('vent', 1), ('immerse', 1), ('restir', 1), ('accompany', 1), ('zest', 1), ('beet', 1), ('reverse', 1), ('collapse', 1), ('milder', 1), ('tester', 1), ('achieve', 1), ('clip', 1), ('anchor', 1), ('remember', 1), ('optional', 1), ('piece', 1), ('soy', 1), ('soupy', 1), ('ham', 1), ('thickest', 1), ('exceed', 1), ('lean', 1), ('carry', 1), ('cannellini', 1), ('free', 1), ('curl', 1), ('char', 1), ('waste', 1), ('reserved', 1), ('dill', 1), ('wire', 1), ('stiff', 1), ('saute', 1), ('stretch', 1), ('ribs', 1), ('batch', 1), ('chowder', 1), ('wok', 1), ('wet', 1), ('roe', 1), ('orange', 1), ('fondue', 1), ('marrow', 1), ('wrinkle', 1)]\n"
     ]
    }
   ],
   "source": [
    "run('verbs', 'ACTION')"
   ]
  },
  {
   "cell_type": "code",
   "execution_count": 13,
   "metadata": {},
   "outputs": [
    {
     "name": "stdout",
     "output_type": "stream",
     "text": [
      "File count:  12576\n",
      "File count:  5829\n",
      "Total count:  18405\n",
      "Unique count:  280\n",
      "[('about', 3968), ('then', 1479), ('ahead', 883), ('just', 844), ('occasionally', 832), ('well', 531), ('slightly', 523), ('together', 512), ('more', 430), ('not', 414), ('completely', 407), ('lightly', 357), ('gently', 307), ('evenly', 305), ('very', 274), ('moderately', 260), ('longer', 219), ('when', 204), ('still', 199), ('meanwhile', 196), ('over', 191), ('gradually', 186), ('aside', 166), ('through', 162), ('almost', 145), ('often', 144), ('down', 134), ('frequently', 132), ('once', 131), ('finely', 129), ('carefully', 123), ('at', 123), ('constantly', 121), ('immediately', 117), ('overnight', 117), ('all', 108), ('loosely', 107), ('generously', 105), ('separately', 104), ('up', 103), ('apart', 102), ('out', 89), ('coarsely', 86), ('tightly', 85), ('enough', 78), ('halfway', 71), ('lower', 63), ('too', 59), ('alternately', 55), ('first', 55), ('barely', 54), ('again', 54), ('oven', 53), ('decoratively', 51), ('equally', 48), ('back', 47), ('n', 46), ('thoroughly', 44), ('partially', 44), ('quickly', 43), ('away', 41), ('thinly', 41), ('no', 40), ('in', 39), ('as', 38), ('even', 35), ('twice', 35), ('third', 34), ('slowly', 33), ('inside', 30), ('horizontally', 30), ('firmly', 28), ('diagonally', 27), ('less', 27), ('vigorously', 24), ('directly', 24), ('freshly', 23), ('so', 22), ('alongside', 22), ('high', 21), ('larger', 21), ('preferably', 21), ('also', 20), ('only', 20), ('thickly', 18), ('around', 17), ('alternatively', 17), ('outside', 16), ('deep', 16), ('sometimes', 15), ('long', 15), ('smaller', 14), ('lengthwise', 14), ('roughly', 13), ('next', 13), ('overmix', 12), ('jelly', 12), ('under', 11), ('fully', 11), ('approximately', 11), ('easier', 10), ('tart', 10), ('below', 9), ('along', 9), ('round', 9), ('off', 9), ('instead', 9), ('crumbly', 9), ('closely', 9), ('briskly', 9), ('inward', 8), ('right', 8), ('easily', 8), ('bubbly', 7), ('heavy', 7), ('where', 7), ('behind', 7), ('crisp', 7), ('higher', 6), ('much', 6), ('above', 6), ('briefly', 5), ('underneath', 5), ('softly', 5), ('darker', 5), ('simply', 5), ('nicely', 5), ('hard', 5), ('better', 4), ('now', 4), ('here', 4), ('15x10x2', 4), ('mostly', 4), ('really', 4), ('securely', 4), ('rather', 4), ('thicker', 4), ('snugly', 4), ('tight', 4), ('coarse', 4), ('never', 3), ('before', 3), ('fine', 3), ('streusel', 3), ('top', 3), ('refrigerate', 3), ('later', 3), ('quite', 3), ('previously', 3), ('oats', 3), ('however', 3), ('straight', 3), ('yet', 3), ('somewhat', 3), ('upside', 3), ('usually', 3), ('forth', 3), ('thinner', 3), ('nearest', 3), ('clam', 3), ('veal', 3), ('alone', 2), ('why', 2), ('always', 2), ('fairly', 2), ('last', 2), ('custard', 2), ('shorter', 2), ('aniseed', 2), ('sandwich', 2), ('escarole', 2), ('pink', 2), ('continuously', 2), ('wobbly', 2), ('how', 2), ('significantly', 2), ('cauliflower', 2), ('online', 2), ('nationwide', 2), ('buttercream', 2), ('marimar', 2), ('firmer', 2), ('wider', 2), ('especially', 2), ('further', 2), ('lighter', 2), ('flat', 2), ('1', 2), ('there', 2), ('insert', 2), ('on', 2), ('deeper', 2), ('close', 1), ('any', 1), ('smoothly', 1), ('creamier', 1), ('comfortably', 1), ('spoon', 1), ('cheesecloth', 1), ('frigerate', 1), ('outward', 1), ('shell', 1), ('dome', 1), ('stronger', 1), ('else', 1), ('11', 1), ('appealingly', 1), ('far', 1), ('probably', 1), ('wrong', 1), ('soon', 1), ('brilliantly', 1), ('second', 1), ('initially', 1), ('overly', 1), ('conversely', 1), ('deeply', 1), ('tiramasù', 1), ('whenever', 1), ('entirely', 1), ('individually', 1), ('greater', 1), ('simultaneously', 1), ('bright', 1), ('cool', 1), ('rough', 1), ('ramekin', 1), ('askew', 1), ('noticeably', 1), ('spicier', 1), ('sesame', 1), ('sweeter', 1), ('instantly', 1), ('awhile', 1), ('lavash', 1), ('open', 1), ('covere', 1), ('either', 1), ('soft', 1), ('chantilly', 1), ('nearly', 1), ('zest', 1), ('indefinitely', 1), ('across', 1), ('nicer', 1), ('anyway', 1), ('quicker', 1), ('asparagus', 1), ('kosher', 1), ('best', 1), ('clear', 1), ('adequately', 1), ('flakier', 1), ('incorrectly', 1), ('newly', 1), ('unpleasantly', 1), ('otherwise', 1), ('jiggly', 1), ('cold', 1), ('exceedingly', 1), ('plain', 1), ('that', 1), ('minimally', 1), ('vertically', 1), ('seasonally', 1), ('rapidly', 1), ('properly', 1), ('extra', 1), ('repeatedly', 1), ('double', 1), ('upright', 1), ('richer', 1), ('stack', 1), ('darkly', 1), ('beautifully', 1), ('smoother', 1), ('after', 1), ('roast', 1), ('shallow', 1), ('spearately', 1)]\n"
     ]
    }
   ],
   "source": [
    "run('adverbs', 'RB')"
   ]
  },
  {
   "cell_type": "code",
   "execution_count": 14,
   "metadata": {},
   "outputs": [
    {
     "name": "stdout",
     "output_type": "stream",
     "text": [
      "File count:  16587\n",
      "File count:  7618\n",
      "Total count:  24205\n",
      "Unique count:  740\n",
      "[('large', 2217), ('medium', 1946), ('heavy', 1129), ('high', 1074), ('small', 866), ('tender', 606), ('golden', 549), ('low', 540), ('smooth', 525), ('oven', 506), ('hot', 422), ('cool', 413), ('brown', 389), ('warm', 358), ('stirring', 346), ('dry', 342), ('electric', 318), ('thick', 303), ('prepared', 297), ('cold', 243), ('clean', 227), ('same', 222), ('soft', 214), ('enough', 199), ('moderate', 196), ('first', 191), ('plastic', 181), ('green', 172), ('red', 168), ('slotted', 167), ('firm', 158), ('top', 149), ('garlic', 146), ('shallow', 144), ('sour', 142), ('fluffy', 142), ('melted', 137), ('white', 137), ('crisp', 135), ('deep', 131), ('reserved', 128), ('rimmed', 122), ('available', 122), ('necessary', 119), ('pale', 115), ('thin', 107), ('together', 100), ('middle', 100), ('coarse', 100), ('blended', 94), ('additional', 86), ('sharp', 85), ('excess', 84), ('second', 84), ('next', 82), ('total', 80), ('wide', 80), ('nonstick', 80), ('single', 78), ('grill', 77), ('black', 77), ('long', 75), ('stiff', 74), ('refrigerated', 73), ('wooden', 72), ('fresh', 71), ('fragrant', 69), ('moist', 69), ('olive', 69), ('tart', 68), ('bottom', 67), ('ovenproof', 65), ('powdered', 62), ('flat', 61), ('rare', 59), ('liquid', 59), ('light', 59), ('eggplant', 59), ('upper', 58), ('double', 54), ('browned', 54), ('airtight', 54), ('fat', 50), ('fine', 49), ('sweet', 48), ('few', 48), ('rack', 45), ('whole', 45), ('crumb', 43), ('other', 42), ('italian', 42), ('asian', 41), ('pink', 41), ('little', 40), ('round', 39), ('short', 38), ('several', 37), ('creamy', 36), ('slow', 36), ('third', 36), ('preheated', 36), ('dutch', 36), ('generous', 36), ('translucent', 35), ('many', 34), ('separate', 34), ('floured', 33), ('wet', 32), ('uncovered', 31), ('main', 31), ('ready', 31), ('toss', 30), ('rosemary', 29), ('orange', 28), ('sure', 28), ('equal', 28), ('sticky', 28), ('plain', 28), ('rounded', 27), ('pine', 27), ('open', 27), ('cooked', 27), ('square', 26), ('frozen', 26), ('dark', 24), ('extra', 24), ('puffed', 24), ('over', 24), ('sliced', 24), ('removable', 23), ('possible', 23), ('gelatin', 23), ('ungreased', 22), ('oiled', 22), ('resealable', 22), ('much', 21), ('sauté', 20), ('evenly', 20), ('couscous', 20), ('buttered', 20), ('diagonal', 20), ('lukewarm', 19), ('free', 19), ('lime', 18), ('waxed', 17), ('natural', 17), ('careful', 17), ('pan', 17), ('broccoli', 17), ('ceramic', 17), ('latin', 17), ('chile', 16), ('moistened', 16), ('turmeric', 16), ('preheat', 16), ('baking', 16), ('spreadable', 15), ('salted', 15), ('glossy', 15), ('pourable', 15), ('clear', 15), ('bare', 15), ('last', 15), ('half', 14), ('opposite', 14), ('mashed', 14), ('full', 14), ('bake', 14), ('sealable', 14), ('roasted', 13), ('scant', 13), ('kosher', 13), ('bright', 13), ('dish', 13), ('opaque', 13), ('rolling', 12), ('crushed', 12), ('covered', 12), ('raw', 12), ('chopped', 12), ('american', 12), ('wild', 12), ('right', 11), ('remaining', 11), ('entire', 11), ('thickened', 11), ('individual', 11), ('tough', 11), ('concentric', 11), ('blue', 11), ('unsweetened', 11), ('parmesan', 11), ('vertical', 11), ('invert', 10), ('heatproof', 10), ('diced', 10), ('spicy', 10), ('bubbling', 10), ('outer', 10), ('squash', 10), ('internal', 10), ('canned', 10), ('mixed', 10), ('espresso', 10), ('flameproof', 10), ('ravioli', 10), ('decorative', 9), ('granulated', 9), ('yellow', 9), ('on', 9), ('intact', 9), ('crumble', 9), ('pecan', 9), ('incorporated', 9), ('undisturbed', 9), ('veal', 9), ('good', 8), ('nonreactive', 8), ('breadcrumb', 8), ('melt', 8), ('asparagus', 8), ('combined', 8), ('non', 8), ('heated', 8), ('mash', 8), ('french', 8), ('bittersweet', 8), ('standard', 8), ('shell', 8), ('oval', 7), ('caramel', 7), ('runny', 7), ('marinate', 7), ('panko', 7), ('uncooked', 7), ('fourth', 7), ('paddle', 7), ('beaten', 7), ('pliable', 7), ('cooled', 7), ('unavailable', 7), ('loose', 7), ('pour', 7), ('whisk', 7), ('elastic', 7), ('soufflé', 7), ('softened', 7), ('inside', 7), ('feta', 7), ('direct', 7), ('under', 7), ('frothy', 7), ('unsalted', 7), ('virgin', 7), ('fried', 7), ('shiny', 6), ('baked', 6), ('inner', 6), ('wobbly', 6), ('tablespoonful', 6), ('eastern', 6), ('chilling', 6), ('hard', 6), ('rectangular', 6), ('tiny', 6), ('creamed', 6), ('fit', 6), ('safe', 6), ('colored', 6), ('horizontal', 6), ('tight', 5), ('toffee', 5), ('shredded', 5), ('ladle', 5), ('stick', 5), ('horseradish', 5), ('gentle', 5), ('springy', 5), ('such', 5), ('regular', 5), ('new', 5), ('broilerproof', 5), ('grainy', 5), ('only', 5), ('optional', 5), ('swordfish', 5), ('degreased', 5), ('like', 5), ('assorted', 5), ('unstuffed', 5), ('visible', 5), ('discard', 5), ('marshmallow', 5), ('microwave', 5), ('clam', 5), ('fondue', 5), ('slight', 5), ('indian', 5), ('11x7x2', 5), ('frosted', 5), ('flush', 5), ('rustic', 5), ('salty', 4), ('grand', 4), ('well', 4), ('solid', 4), ('handheld', 4), ('greek', 4), ('orzo', 4), ('macaroni', 4), ('unopened', 4), ('easy', 4), ('11', 4), ('grated', 4), ('juicy', 4), ('sauce', 4), ('steamed', 4), ('cracked', 4), ('lumpy', 4), ('glowing', 4), ('steep', 4), ('crabmeat', 4), ('shred', 4), ('steady', 4), ('flexible', 4), ('disposable', 4), ('artichoke', 4), ('stainless', 4), ('garbanzo', 4), ('off', 4), ('hollow', 4), ('empty', 4), ('out', 4), ('damp', 4), ('standing', 4), ('even', 4), ('lily', 4), ('bolognese', 4), ('crystallized', 3), ('triple', 3), ('delicate', 3), ('similar', 3), ('sized', 3), ('pre', 3), ('quick', 3), ('sweetened', 3), ('stewed', 3), ('trim', 3), ('fluted', 3), ('brittle', 3), ('pierce', 3), ('important', 3), ('perfect', 3), ('around', 3), ('topping', 3), ('southeast', 3), ('instant', 3), ('11x7', 3), ('big', 3), ('correct', 3), ('final', 3), ('chipotle', 3), ('fluff', 3), ('crusty', 3), ('jelly', 3), ('dampened', 3), ('stir', 3), ('braising', 3), ('coated', 3), ('strong', 3), ('fennel', 3), ('poppy', 3), ('mini', 3), ('protective', 3), ('syrupy', 3), ('stacked', 3), ('old', 3), ('aromatic', 3), ('forward', 3), ('gray', 3), ('anaheim', 3), ('unbaked', 3), ('crunchy', 3), ('pomegranate', 3), ('original', 3), ('sautéed', 3), ('13', 3), ('seasoned', 3), ('gruyère', 3), ('flaky', 3), ('salsa', 3), ('insert', 3), ('sensitive', 3), ('circular', 3), ('marked', 3), ('skinned', 3), ('beautiful', 2), ('nice', 2), ('flavorful', 2), ('able', 2), ('simple', 2), ('13x9', 2), ('chunky', 2), ('in', 2), ('swiss', 2), ('cleared', 2), ('semi', 2), ('alternate', 2), ('bottled', 2), ('upright', 2), ('juice', 2), ('deglaze', 2), ('previous', 2), ('untoasted', 2), ('english', 2), ('cook', 2), ('saute', 2), ('sturdy', 2), ('spoonful', 2), ('different', 2), ('wonderful', 2), ('great', 2), ('deli', 2), ('cabernet', 2), ('pressed', 2), ('irregular', 2), ('foamy', 2), ('nonaluminum', 2), ('apart', 2), ('wilted', 2), ('rich', 2), ('maple', 2), ('japanese', 2), ('mozzarella', 2), ('mushy', 2), ('cointreau', 2), ('distinctive', 2), ('finished', 2), ('own', 2), ('creole', 2), ('thai', 2), ('miniature', 2), ('proof', 2), ('emulsified', 2), ('cinnamon', 2), ('arrange', 2), ('matchstick', 2), ('parallel', 2), ('vermouth', 2), ('peppercorn', 2), ('reactive', 2), ('stew', 2), ('closed', 2), ('pat', 2), ('unfold', 2), ('secure', 2), ('unbleached', 2), ('hungarian', 2), ('shaggy', 2), ('anchovy', 2), ('straight', 2), ('brazilian', 2), ('west', 2), ('african', 2), ('broth', 2), ('adjacent', 2), ('divide', 2), ('puffy', 2), ('reclosable', 2), ('stretchy', 2), ('milky', 2), ('bitter', 2), ('spatula', 2), ('above', 2), ('sided', 2), ('fluid', 2), ('pasta', 2), ('neat', 2), ('adobo', 2), ('nori', 2), ('frosting', 2), ('candied', 2), ('fragile', 2), ('crimini', 2), ('caramelized', 2), ('eyed', 2), ('brush', 2), ('picante', 2), ('leafy', 2), ('mediumhigh', 2), ('drippin', 2), ('grilled', 2), ('narrow', 2), ('ajar', 2), ('pear', 2), ('halved', 2), ('tangerine', 2), ('frangipane', 2), ('dressed', 1), ('difficult', 1), ('comfortable', 1), ('uniform', 1), ('succulent', 1), ('triangular', 1), ('superelegant', 1), ('nuts', 1), ('smashed', 1), ('reduced', 1), ('flattened', 1), ('close', 1), ('lively', 1), ('satiny', 1), ('dijon', 1), ('61', 1), ('parchment', 1), ('falafel', 1), ('oily', 1), ('true', 1), ('israeli', 1), ('indirect', 1), ('odd', 1), ('aleppo', 1), ('syrian', 1), ('earthy', 1), ('subtle', 1), ('bodied', 1), ('counter', 1), ('swirl', 1), ('scored', 1), ('boned', 1), ('pretty', 1), ('cute', 1), ('pretentious', 1), ('delicious', 1), ('unencumbered', 1), ('lucky', 1), ('hearty', 1), ('vegetarian', 1), ('grayish', 1), ('candy', 1), ('marinating', 1), ('aluminum', 1), ('14x9', 1), ('concentrated', 1), ('evenish', 1), ('blunt', 1), ('terrific', 1), ('comforting', 1), ('inserted', 1), ('overnight', 1), ('expandable', 1), ('softest', 1), ('unadorned', 1), ('evaporated', 1), ('stupid', 1), ('expensive', 1), ('wrong', 1), ('cohesive', 1), ('2½', 1), ('flaked', 1), ('oblong', 1), ('special', 1), ('superfine', 1), ('noncorrodible', 1), ('usual', 1), ('premature', 1), ('unprotected', 1), ('sear', 1), ('seared', 1), ('various', 1), ('gorgonzola', 1), ('unpeeled', 1), ('radish', 1), ('15x10x2', 1), ('defrost', 1), ('gloss', 1), ('inward', 1), ('outward', 1), ('lingonberry', 1), ('tent', 1), ('roast', 1), ('15x10x1', 1), ('beween', 1), ('sieve', 1), ('intestinal', 1), ('sundae', 1), ('stalk', 1), ('alternative', 1), ('specific', 1), ('appealing', 1), ('professional', 1), ('lined', 1), ('pasty', 1), ('fudgy', 1), ('bottomless', 1), ('husk', 1), ('silky', 1), ('assembled', 1), ('scallop', 1), ('cooking', 1), ('cilantro', 1), ('stuck', 1), ('fold', 1), ('casserole', 1), ('stove', 1), ('beurre', 1), ('semifreddo', 1), ('id', 1), ('platter', 1), ('instantread', 1), ('marinated', 1), ('1', 1), ('further', 1), ('skewered', 1), ('shelled', 1), ('curried', 1), ('buco', 1), ('vegetable', 1), ('prebaked', 1), ('saltine', 1), ('outside', 1), ('cannelloni', 1), ('julienned', 1), ('torn', 1), ('½', 1), ('bulk', 1), ('turkey', 1), ('condensed', 1), ('marbled', 1), ('bok', 1), ('scalloped', 1), ('digital', 1), ('gratin', 1), ('uncolored', 1), ('ovensafe', 1), ('indent', 1), ('toasty', 1), ('silpat', 1), ('fancy', 1), ('arugula', 1), ('billowy', 1), ('serrated', 1), ('paprika', 1), ('edible', 1), ('mexican', 1), ('depending', 1), ('flake', 1), ('gremolata', 1), ('teaspoonful', 1), ('cornbread', 1), ('coleslaw', 1), ('about', 1), ('contrary', 1), ('sauteacute', 1), ('tortilla', 1), ('icing', 1), ('inch', 1), ('caraway', 1), ('unmold', 1), ('basic', 1), ('resistant', 1), ('far', 1), ('secret', 1), ('gluten', 1), ('adequate', 1), ('acidic', 1), ('metallic', 1), ('holy', 1), ('ancho', 1), ('rotary', 1), ('33', 1), ('front', 1), ('down', 1), ('brief', 1), ('separately', 1), ('escarole', 1), ('archive', 1), ('unexpected', 1), ('welcome', 1), ('cored', 1), ('carrot', 1), ('outdoor', 1), ('2', 1), ('rosy', 1), ('terry', 1), ('stout', 1), ('guinness', 1), ('peppered', 1), ('adjustable', 1), ('core', 1), ('curved', 1), ('pudding', 1), ('crisscross', 1), ('colombian', 1), ('indonesian', 1), ('canadian', 1), ('moroccan', 1), ('stirred', 1), ('slanted', 1), ('iced', 1), ('manageable', 1), ('kalamata', 1), ('cheesecloth', 1), ('unglazed', 1), ('marsala', 1), ('plump', 1), ('exact', 1), ('rough', 1), ('bakeware', 1), ('assertive', 1), ('traditional', 1), ('naam', 1), ('mindful', 1), ('potential', 1), ('nightly', 1), ('demi', 1), ('glace', 1), ('roasty', 1), ('spoonable', 1), ('quartered', 1), ('frizzled', 1), ('later', 1), ('chinese', 1), ('tamari', 1), ('relish', 1), ('semisweet', 1), ('sixth', 1), ('dusty', 1), ('mild', 1), ('smoked', 1), ('endive', 1), ('transparent', 1), ('looking', 1), ('reverse', 1), ('reddish', 1), ('gumbo', 1), ('dislodged', 1), ('up', 1), ('slippery', 1), ('southwestern', 1)]\n"
     ]
    }
   ],
   "source": [
    "run('adjectives', 'JJ')"
   ]
  },
  {
   "cell_type": "code",
   "execution_count": null,
   "metadata": {},
   "outputs": [],
   "source": []
  }
 ],
 "metadata": {
  "kernelspec": {
   "display_name": "Python 3",
   "language": "python",
   "name": "python3"
  },
  "language_info": {
   "codemirror_mode": {
    "name": "ipython",
    "version": 3
   },
   "file_extension": ".py",
   "mimetype": "text/x-python",
   "name": "python",
   "nbconvert_exporter": "python",
   "pygments_lexer": "ipython3",
   "version": "3.8.5"
  }
 },
 "nbformat": 4,
 "nbformat_minor": 4
}
