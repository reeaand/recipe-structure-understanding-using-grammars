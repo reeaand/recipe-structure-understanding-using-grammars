{
 "cells": [
  {
   "cell_type": "code",
   "execution_count": 1,
   "metadata": {},
   "outputs": [],
   "source": [
    "from allennlp.predictors.predictor import Predictor\n",
    "import allennlp_models.tagging\n",
    "from nltk import Tree\n",
    "import re"
   ]
  },
  {
   "cell_type": "code",
   "execution_count": 2,
   "metadata": {},
   "outputs": [],
   "source": [
    "predictor = Predictor.from_path(\"https://storage.googleapis.com/allennlp-public-models/elmo-constituency-parser-2020.02.10.tar.gz\")\n"
   ]
  },
  {
   "cell_type": "code",
   "execution_count": 3,
   "metadata": {},
   "outputs": [],
   "source": [
    "def replace_zone(index, node, tree):\n",
    "    length = len(tree)\n",
    "    if len(node.leaves()) < 2 and index+1 < length:\n",
    "        next_node = tree[index+1]\n",
    "        result = [node.leaves()[0], next_node.leaves()[0]]\n",
    "        return result\n",
    "    else:\n",
    "        return node.leaves()[0:2]"
   ]
  },
  {
   "cell_type": "code",
   "execution_count": 4,
   "metadata": {},
   "outputs": [],
   "source": [
    "def fix_sentence_verb_tag(sentence, tree):\n",
    "    length = len(tree)\n",
    "    fixed = False\n",
    "    vp_exists = False\n",
    "    for index in range(length):\n",
    "        node = tree[index]\n",
    "        if node.label() == 'VP':\n",
    "            vp_exists = True\n",
    "            exists = False\n",
    "            for pair in node.pos():\n",
    "                if pair[1] == 'VB' or pair[1] == 'VBP':\n",
    "                    exists = True\n",
    "                    break\n",
    "            if not exists:\n",
    "                for pair in node.pos():\n",
    "                    if pair[1] != 'CC' and pair[1] != 'RB':\n",
    "                        to_replace = ' '.join(map(str, replace_zone(index, node, tree)))\n",
    "                        replaced = to_replace.replace(pair[0], pair[0]+' the')\n",
    "                        sentence = sentence.replace(to_replace, replaced)\n",
    "                        fixed = True\n",
    "                        break   \n",
    "    \n",
    "    if not vp_exists:\n",
    "        for pair in tree[0].pos():\n",
    "            if pair[1] != 'CC' and pair[1] != 'RB':\n",
    "                to_replace = ' '.join(map(str, replace_zone(0, tree[0], tree)))\n",
    "                replaced = to_replace.replace(pair[0], pair[0]+' the')\n",
    "                sentence = sentence.replace(to_replace, replaced)\n",
    "                fixed = True\n",
    "                break  \n",
    "                \n",
    "    return sentence, fixed"
   ]
  },
  {
   "cell_type": "code",
   "execution_count": 17,
   "metadata": {},
   "outputs": [],
   "source": [
    "def save_to_file(pos, words):\n",
    "    f = open(pos+\".txt\", \"a\")\n",
    "    for word in words:\n",
    "        f.write(word + '\\n')\n",
    "    f.close()"
   ]
  },
  {
   "cell_type": "code",
   "execution_count": 18,
   "metadata": {},
   "outputs": [],
   "source": [
    "def save_words(tree):\n",
    "    verbs = re.findall(\"VBP? (\\w+)\",tree)\n",
    "    adverbs = re.findall(\"RB? (\\w+)\", tree)\n",
    "    adjectives = re.findall(\"JJ? (\\w+)\", tree)\n",
    "    \n",
    "    save_to_file('verbs2', verbs)\n",
    "    save_to_file('adverbs2', adverbs)\n",
    "    save_to_file('adjectives2', adjectives)"
   ]
  },
  {
   "cell_type": "code",
   "execution_count": 19,
   "metadata": {},
   "outputs": [],
   "source": [
    "def process_sentence(sentence):\n",
    "    result = predictor.predict_json({\"sentence\": sentence})\n",
    "    tree = Tree.fromstring(result['trees'])\n",
    "    new_sentence, fixed = fix_sentence_verb_tag(sentence, tree)\n",
    "    if fixed:\n",
    "        result = predictor.predict_json({\"sentence\": new_sentence})\n",
    "        tree = Tree.fromstring(result['trees'])\n",
    "    save_words(result['trees'])"
   ]
  },
  {
   "cell_type": "code",
   "execution_count": 20,
   "metadata": {},
   "outputs": [],
   "source": [
    "import pandas as pd"
   ]
  },
  {
   "cell_type": "code",
   "execution_count": 21,
   "metadata": {},
   "outputs": [],
   "source": [
    "recipe_file_path = \"../csvs/steps2.csv\"\n",
    "df = pd.read_csv(recipe_file_path, delimiter=',')"
   ]
  },
  {
   "cell_type": "code",
   "execution_count": 22,
   "metadata": {},
   "outputs": [
    {
     "data": {
      "text/html": [
       "<div>\n",
       "<style scoped>\n",
       "    .dataframe tbody tr th:only-of-type {\n",
       "        vertical-align: middle;\n",
       "    }\n",
       "\n",
       "    .dataframe tbody tr th {\n",
       "        vertical-align: top;\n",
       "    }\n",
       "\n",
       "    .dataframe thead th {\n",
       "        text-align: right;\n",
       "    }\n",
       "</style>\n",
       "<table border=\"1\" class=\"dataframe\">\n",
       "  <thead>\n",
       "    <tr style=\"text-align: right;\">\n",
       "      <th></th>\n",
       "      <th>id</th>\n",
       "      <th>content</th>\n",
       "      <th>number</th>\n",
       "      <th>recipe_id</th>\n",
       "    </tr>\n",
       "  </thead>\n",
       "  <tbody>\n",
       "    <tr>\n",
       "      <th>0</th>\n",
       "      <td>1153</td>\n",
       "      <td>Preheat oven to 200°F. Sprinkle 1 side of tuna...</td>\n",
       "      <td>1</td>\n",
       "      <td>353</td>\n",
       "    </tr>\n",
       "    <tr>\n",
       "      <th>1</th>\n",
       "      <td>1154</td>\n",
       "      <td>Add butter, sliced green onions, cilantro, gin...</td>\n",
       "      <td>2</td>\n",
       "      <td>353</td>\n",
       "    </tr>\n",
       "    <tr>\n",
       "      <th>2</th>\n",
       "      <td>1155</td>\n",
       "      <td>Preheat oven to 350°F. Butter and flour two 9x...</td>\n",
       "      <td>1</td>\n",
       "      <td>354</td>\n",
       "    </tr>\n",
       "    <tr>\n",
       "      <th>3</th>\n",
       "      <td>1156</td>\n",
       "      <td>Divide batter equally between prepared pans. B...</td>\n",
       "      <td>2</td>\n",
       "      <td>354</td>\n",
       "    </tr>\n",
       "    <tr>\n",
       "      <th>4</th>\n",
       "      <td>1157</td>\n",
       "      <td>Preheat oven to 300°F. and grease pans. Line b...</td>\n",
       "      <td>1</td>\n",
       "      <td>355</td>\n",
       "    </tr>\n",
       "  </tbody>\n",
       "</table>\n",
       "</div>"
      ],
      "text/plain": [
       "     id                                            content number recipe_id\n",
       "0  1153  Preheat oven to 200°F. Sprinkle 1 side of tuna...      1       353\n",
       "1  1154  Add butter, sliced green onions, cilantro, gin...      2       353\n",
       "2  1155  Preheat oven to 350°F. Butter and flour two 9x...      1       354\n",
       "3  1156  Divide batter equally between prepared pans. B...      2       354\n",
       "4  1157  Preheat oven to 300°F. and grease pans. Line b...      1       355"
      ]
     },
     "execution_count": 22,
     "metadata": {},
     "output_type": "execute_result"
    }
   ],
   "source": [
    "no_columns = len(df.columns)\n",
    "if no_columns >= 4:\n",
    "    df.drop(df.columns[[i for i in range(4,no_columns)]], axis=1, inplace=True)\n",
    "df.head()"
   ]
  },
  {
   "cell_type": "code",
   "execution_count": 23,
   "metadata": {},
   "outputs": [],
   "source": [
    "steps = df['content'].tolist()\n",
    "steps = [step.lower() for step in steps if isinstance(step, str)]"
   ]
  },
  {
   "cell_type": "code",
   "execution_count": 24,
   "metadata": {},
   "outputs": [
    {
     "data": {
      "text/plain": [
       "49991"
      ]
     },
     "execution_count": 24,
     "metadata": {},
     "output_type": "execute_result"
    }
   ],
   "source": [
    "len(steps)"
   ]
  },
  {
   "cell_type": "code",
   "execution_count": 25,
   "metadata": {},
   "outputs": [],
   "source": [
    "import time"
   ]
  },
  {
   "cell_type": "code",
   "execution_count": 30,
   "metadata": {},
   "outputs": [],
   "source": [
    "i_start = 5000\n",
    "i_end = 10000"
   ]
  },
  {
   "cell_type": "code",
   "execution_count": 31,
   "metadata": {
    "scrolled": true
   },
   "outputs": [
    {
     "name": "stdout",
     "output_type": "stream",
     "text": [
      "7416 boil port and wine in heavy small saucepan until mixture is reduced to 2/3 cup, about 8 minutes. set aside.\n"
     ]
    },
    {
     "ename": "NameError",
     "evalue": "name 'traceback' is not defined",
     "output_type": "error",
     "traceback": [
     ]
    }
   ],
   "source": [
    "start = time.time()\n",
    "\n",
    "for index in range(i_start,i_end): \n",
    "    try:\n",
    "        step = steps[index]\n",
    "        step = step.replace('(', '')\n",
    "        step = step.replace(')', '')\n",
    "        sentences = re.split('(?<=[.!?;]) +',step)\n",
    "        for sentence in sentences:\n",
    "            process_sentence(sentence)\n",
    "    except:\n",
    "        print(index, step)\n",
    "        traceback.print_exc()\n",
    "        break\n",
    "        \n",
    "end = time.time()\n",
    "print(\"total: \", str(end - start))\n",
    "time_sentence = (end - start) / (i_end - i_start)\n",
    "print(\"per step: \", str(time_sentence))"
   ]
  },
  {
   "cell_type": "code",
   "execution_count": null,
   "metadata": {},
   "outputs": [],
   "source": []
  },
  {
   "cell_type": "code",
   "execution_count": null,
   "metadata": {},
   "outputs": [],
   "source": []
  }
 ],
 "metadata": {
  "kernelspec": {
   "display_name": "Python 3",
   "language": "python",
   "name": "python3"
  },
  "language_info": {
   "codemirror_mode": {
    "name": "ipython",
    "version": 3
   },
   "file_extension": ".py",
   "mimetype": "text/x-python",
   "name": "python",
   "nbconvert_exporter": "python",
   "pygments_lexer": "ipython3",
   "version": "3.8.5"
  }
 },
 "nbformat": 4,
 "nbformat_minor": 4
}
