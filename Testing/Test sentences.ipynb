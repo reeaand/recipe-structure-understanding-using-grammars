{
 "cells": [
  {
   "cell_type": "code",
   "execution_count": 1,
   "metadata": {},
   "outputs": [],
   "source": [
    "import pandas as pd\n",
    "import re\n",
    "import traceback"
   ]
  },
  {
   "cell_type": "code",
   "execution_count": 2,
   "metadata": {},
   "outputs": [],
   "source": [
    "recipe_file_path = \"../csvs/steps2.csv\"\n",
    "df = pd.read_csv(recipe_file_path, delimiter=',')"
   ]
  },
  {
   "cell_type": "code",
   "execution_count": 3,
   "metadata": {},
   "outputs": [
    {
     "data": {
      "text/html": [
       "<div>\n",
       "<style scoped>\n",
       "    .dataframe tbody tr th:only-of-type {\n",
       "        vertical-align: middle;\n",
       "    }\n",
       "\n",
       "    .dataframe tbody tr th {\n",
       "        vertical-align: top;\n",
       "    }\n",
       "\n",
       "    .dataframe thead th {\n",
       "        text-align: right;\n",
       "    }\n",
       "</style>\n",
       "<table border=\"1\" class=\"dataframe\">\n",
       "  <thead>\n",
       "    <tr style=\"text-align: right;\">\n",
       "      <th></th>\n",
       "      <th>id</th>\n",
       "      <th>content</th>\n",
       "      <th>number</th>\n",
       "      <th>recipe_id</th>\n",
       "    </tr>\n",
       "  </thead>\n",
       "  <tbody>\n",
       "    <tr>\n",
       "      <th>0</th>\n",
       "      <td>1153</td>\n",
       "      <td>Preheat oven to 200°F. Sprinkle 1 side of tuna...</td>\n",
       "      <td>1</td>\n",
       "      <td>353</td>\n",
       "    </tr>\n",
       "    <tr>\n",
       "      <th>1</th>\n",
       "      <td>1154</td>\n",
       "      <td>Add butter, sliced green onions, cilantro, gin...</td>\n",
       "      <td>2</td>\n",
       "      <td>353</td>\n",
       "    </tr>\n",
       "    <tr>\n",
       "      <th>2</th>\n",
       "      <td>1155</td>\n",
       "      <td>Preheat oven to 350°F. Butter and flour two 9x...</td>\n",
       "      <td>1</td>\n",
       "      <td>354</td>\n",
       "    </tr>\n",
       "    <tr>\n",
       "      <th>3</th>\n",
       "      <td>1156</td>\n",
       "      <td>Divide batter equally between prepared pans. B...</td>\n",
       "      <td>2</td>\n",
       "      <td>354</td>\n",
       "    </tr>\n",
       "    <tr>\n",
       "      <th>4</th>\n",
       "      <td>1157</td>\n",
       "      <td>Preheat oven to 300°F. and grease pans. Line b...</td>\n",
       "      <td>1</td>\n",
       "      <td>355</td>\n",
       "    </tr>\n",
       "  </tbody>\n",
       "</table>\n",
       "</div>"
      ],
      "text/plain": [
       "     id                                            content number recipe_id\n",
       "0  1153  Preheat oven to 200°F. Sprinkle 1 side of tuna...      1       353\n",
       "1  1154  Add butter, sliced green onions, cilantro, gin...      2       353\n",
       "2  1155  Preheat oven to 350°F. Butter and flour two 9x...      1       354\n",
       "3  1156  Divide batter equally between prepared pans. B...      2       354\n",
       "4  1157  Preheat oven to 300°F. and grease pans. Line b...      1       355"
      ]
     },
     "execution_count": 3,
     "metadata": {},
     "output_type": "execute_result"
    }
   ],
   "source": [
    "no_columns = len(df.columns)\n",
    "if no_columns >= 4:\n",
    "    df.drop(df.columns[[i for i in range(4,no_columns)]], axis=1, inplace=True)\n",
    "df.head()"
   ]
  },
  {
   "cell_type": "code",
   "execution_count": 4,
   "metadata": {},
   "outputs": [],
   "source": [
    "steps = df['content'].tolist()"
   ]
  },
  {
   "cell_type": "code",
   "execution_count": 5,
   "metadata": {},
   "outputs": [],
   "source": [
    "import subprocess"
   ]
  },
  {
   "cell_type": "code",
   "execution_count": 6,
   "metadata": {},
   "outputs": [],
   "source": [
    "def runOutFile():\n",
    "    with open('input.txt','r') as infile:\n",
    "        subprocess.call(\n",
    "            ('./a.out',),\n",
    "            stdin=infile,\n",
    "            universal_newlines=True)"
   ]
  },
  {
   "cell_type": "code",
   "execution_count": 7,
   "metadata": {},
   "outputs": [],
   "source": [
    "def writeInput(sentence):\n",
    "    f = open(\"input.txt\", \"w\")\n",
    "    f.write(sentence+\"\\n\")\n",
    "    f.close()"
   ]
  },
  {
   "cell_type": "code",
   "execution_count": 8,
   "metadata": {},
   "outputs": [],
   "source": [
    "def getResult():\n",
    "    f = open(\"recipe.json\", \"r\")\n",
    "    result = f.read()\n",
    "    f.close()\n",
    "    if (result == \"-1\"):\n",
    "        return -1\n",
    "    return 0"
   ]
  },
  {
   "cell_type": "code",
   "execution_count": 9,
   "metadata": {},
   "outputs": [],
   "source": [
    "def process_sentence(sentence):\n",
    "    writeInput(sentence)\n",
    "    runOutFile()\n",
    "    return getResult()"
   ]
  },
  {
   "cell_type": "code",
   "execution_count": 10,
   "metadata": {},
   "outputs": [],
   "source": [
    "i_start = 0\n",
    "i_end = 45000"
   ]
  },
  {
   "cell_type": "code",
   "execution_count": 11,
   "metadata": {},
   "outputs": [
    {
     "name": "stdout",
     "output_type": "stream",
     "text": [
      "Recognized:  135665\n",
      "Not recognized:  47404\n",
      "Total:  183069\n",
      "Percent recognized:  74.10593819816572\n"
     ]
    }
   ],
   "source": [
    "ok = 0\n",
    "notOk = 0\n",
    "\n",
    "for index in range(i_start,i_end): \n",
    "    try:\n",
    "        step = steps[index]\n",
    "        if not isinstance(step, str):\n",
    "            continue\n",
    "        step = re.sub(r'\\([^)]*\\)', ' ', step)\n",
    "        sentences = re.split('(?<=[!?;.]) +',step)\n",
    "        for sentence in sentences:\n",
    "            sentence = sentence.strip();\n",
    "            if sentence == '' or re.match('[0-9]+.',sentence):\n",
    "                continue;\n",
    "            sentence = sentence.lower()\n",
    "            rez = process_sentence(sentence)\n",
    "            if (rez == 0):\n",
    "                ok+=1\n",
    "            else:\n",
    "                notOk+=1\n",
    "    except:\n",
    "        print(index, sentence)\n",
    "        traceback.print_exc()\n",
    "        break\n",
    "        \n",
    "print(\"Recognized: \", ok)\n",
    "print(\"Not recognized: \", notOk)\n",
    "print(\"Total: \", ok+notOk)\n",
    "\n",
    "val = ok*100.0/(ok+notOk)\n",
    "print(\"Percent recognized: \", val)"
   ]
  },
  {
   "cell_type": "code",
   "execution_count": null,
   "metadata": {},
   "outputs": [],
   "source": []
  }
 ],
 "metadata": {
  "kernelspec": {
   "display_name": "Python 3",
   "language": "python",
   "name": "python3"
  },
  "language_info": {
   "codemirror_mode": {
    "name": "ipython",
    "version": 3
   },
   "file_extension": ".py",
   "mimetype": "text/x-python",
   "name": "python",
   "nbconvert_exporter": "python",
   "pygments_lexer": "ipython3",
   "version": "3.8.5"
  }
 },
 "nbformat": 4,
 "nbformat_minor": 4
}
