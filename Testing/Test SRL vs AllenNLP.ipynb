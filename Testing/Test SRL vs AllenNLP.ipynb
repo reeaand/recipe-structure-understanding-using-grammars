{
 "cells": [
  {
   "cell_type": "code",
   "execution_count": 1,
   "metadata": {},
   "outputs": [],
   "source": [
    "from allennlp.predictors.predictor import Predictor\n",
    "import allennlp_models.tagging\n",
    "from nltk import Tree\n",
    "import re\n",
    "import traceback\n",
    "import json"
   ]
  },
  {
   "cell_type": "code",
   "execution_count": 2,
   "metadata": {},
   "outputs": [],
   "source": [
    "from PyDictionary import PyDictionary\n",
    "dictionary=PyDictionary()"
   ]
  },
  {
   "cell_type": "code",
   "execution_count": 3,
   "metadata": {},
   "outputs": [],
   "source": [
    "predictor = Predictor.from_path(\"https://storage.googleapis.com/allennlp-public-models/structured-prediction-srl-bert.2020.12.15.tar.gz\")\n"
   ]
  },
  {
   "cell_type": "code",
   "execution_count": 4,
   "metadata": {},
   "outputs": [],
   "source": [
    "def process_sentenceALLEN(sentence):\n",
    "    result = predictor.predict_json({\"sentence\": sentence})\n",
    "    \n",
    "    if len(result['verbs']) == 0:\n",
    "        return -1\n",
    "    tags = result['verbs'][0]['tags']\n",
    "    words = result['words']\n",
    "    if result['verbs'][0]['verb'].endswith(\"ed\"):\n",
    "        return -1\n",
    "    dictResult = dictionary.meaning(result['verbs'][0]['verb'])\n",
    "    if dictResult == None or not 'Verb' in dictResult:\n",
    "        return -1\n",
    "    return tags, words"
   ]
  },
  {
   "cell_type": "code",
   "execution_count": 5,
   "metadata": {},
   "outputs": [],
   "source": [
    "import pandas as pd\n",
    "recipe_file_path = \"../csvs/steps2.csv\"\n",
    "df = pd.read_csv(recipe_file_path, delimiter=',')"
   ]
  },
  {
   "cell_type": "code",
   "execution_count": 6,
   "metadata": {},
   "outputs": [
    {
     "data": {
      "text/html": [
       "<div>\n",
       "<style scoped>\n",
       "    .dataframe tbody tr th:only-of-type {\n",
       "        vertical-align: middle;\n",
       "    }\n",
       "\n",
       "    .dataframe tbody tr th {\n",
       "        vertical-align: top;\n",
       "    }\n",
       "\n",
       "    .dataframe thead th {\n",
       "        text-align: right;\n",
       "    }\n",
       "</style>\n",
       "<table border=\"1\" class=\"dataframe\">\n",
       "  <thead>\n",
       "    <tr style=\"text-align: right;\">\n",
       "      <th></th>\n",
       "      <th>id</th>\n",
       "      <th>content</th>\n",
       "      <th>number</th>\n",
       "      <th>recipe_id</th>\n",
       "    </tr>\n",
       "  </thead>\n",
       "  <tbody>\n",
       "    <tr>\n",
       "      <th>0</th>\n",
       "      <td>1153</td>\n",
       "      <td>Preheat oven to 200°F. Sprinkle 1 side of tuna...</td>\n",
       "      <td>1</td>\n",
       "      <td>353</td>\n",
       "    </tr>\n",
       "    <tr>\n",
       "      <th>1</th>\n",
       "      <td>1154</td>\n",
       "      <td>Add butter, sliced green onions, cilantro, gin...</td>\n",
       "      <td>2</td>\n",
       "      <td>353</td>\n",
       "    </tr>\n",
       "    <tr>\n",
       "      <th>2</th>\n",
       "      <td>1155</td>\n",
       "      <td>Preheat oven to 350°F. Butter and flour two 9x...</td>\n",
       "      <td>1</td>\n",
       "      <td>354</td>\n",
       "    </tr>\n",
       "    <tr>\n",
       "      <th>3</th>\n",
       "      <td>1156</td>\n",
       "      <td>Divide batter equally between prepared pans. B...</td>\n",
       "      <td>2</td>\n",
       "      <td>354</td>\n",
       "    </tr>\n",
       "    <tr>\n",
       "      <th>4</th>\n",
       "      <td>1157</td>\n",
       "      <td>Preheat oven to 300°F. and grease pans. Line b...</td>\n",
       "      <td>1</td>\n",
       "      <td>355</td>\n",
       "    </tr>\n",
       "  </tbody>\n",
       "</table>\n",
       "</div>"
      ],
      "text/plain": [
       "     id                                            content number recipe_id\n",
       "0  1153  Preheat oven to 200°F. Sprinkle 1 side of tuna...      1       353\n",
       "1  1154  Add butter, sliced green onions, cilantro, gin...      2       353\n",
       "2  1155  Preheat oven to 350°F. Butter and flour two 9x...      1       354\n",
       "3  1156  Divide batter equally between prepared pans. B...      2       354\n",
       "4  1157  Preheat oven to 300°F. and grease pans. Line b...      1       355"
      ]
     },
     "execution_count": 6,
     "metadata": {},
     "output_type": "execute_result"
    }
   ],
   "source": [
    "no_columns = len(df.columns)\n",
    "if no_columns >= 4:\n",
    "    df.drop(df.columns[[i for i in range(4,no_columns)]], axis=1, inplace=True)\n",
    "df.head()"
   ]
  },
  {
   "cell_type": "code",
   "execution_count": 7,
   "metadata": {},
   "outputs": [],
   "source": [
    "steps = df['content'].tolist()"
   ]
  },
  {
   "cell_type": "code",
   "execution_count": 8,
   "metadata": {},
   "outputs": [],
   "source": [
    "import subprocess"
   ]
  },
  {
   "cell_type": "code",
   "execution_count": 9,
   "metadata": {},
   "outputs": [],
   "source": [
    "def runOutFile():\n",
    "    with open('input.txt','r') as infile:\n",
    "        subprocess.call(\n",
    "            ('./a.out',),\n",
    "            stdin=infile,\n",
    "            universal_newlines=True)"
   ]
  },
  {
   "cell_type": "code",
   "execution_count": 10,
   "metadata": {},
   "outputs": [],
   "source": [
    "def writeInput(sentence):\n",
    "    f = open(\"input.txt\", \"w\")\n",
    "    f.write(sentence+\"\\n\")\n",
    "    f.close()"
   ]
  },
  {
   "cell_type": "code",
   "execution_count": 11,
   "metadata": {},
   "outputs": [],
   "source": [
    "def getResult():\n",
    "    f = open(\"recipe.json\", \"r\")\n",
    "    result = f.read()\n",
    "    f.close()\n",
    "    jsonResult = json.loads(result)\n",
    "    return jsonResult"
   ]
  },
  {
   "cell_type": "code",
   "execution_count": 12,
   "metadata": {},
   "outputs": [],
   "source": [
    "def extractWords(arg):\n",
    "    words = []\n",
    "    words.extend(arg['value'].split())\n",
    "    if ('children' in arg.keys()):\n",
    "        for child in arg['children']:\n",
    "            words.extend(extractWords(child))\n",
    "    return words"
   ]
  },
  {
   "cell_type": "code",
   "execution_count": 13,
   "metadata": {},
   "outputs": [],
   "source": [
    "def wordsToLabel(tree):\n",
    "    if (tree == \"-1\"):\n",
    "        return -1\n",
    "    try:\n",
    "        sentence = tree['children'][0]['children'][0]\n",
    "    except:\n",
    "        return -1\n",
    "    result = list()\n",
    "    result.append(('V',[sentence['value']]))\n",
    "    if ('children' in sentence.keys()):\n",
    "        for child in sentence['children']:\n",
    "            words = extractWords(child)\n",
    "            result.append((child['label'],words))\n",
    "    return result"
   ]
  },
  {
   "cell_type": "code",
   "execution_count": 14,
   "metadata": {},
   "outputs": [],
   "source": [
    "def allenToLabel(solution):\n",
    "    if (solution == -1):\n",
    "        return -1\n",
    "    tags, words = solution\n",
    "    result = list()\n",
    "    currentList = list()\n",
    "    currentTag = 'X'\n",
    "    for i in range(len(tags)):\n",
    "        vals = tags[i].split(\"-\",1)\n",
    "        if (vals[0] != 'I'):\n",
    "            if (currentTag != 'X'):\n",
    "                result.append((currentTag,currentList))\n",
    "            currentList = list()\n",
    "            if (vals[0] != 'O'):\n",
    "                currentTag = vals[1]\n",
    "            else: \n",
    "                currentTag = 'X'\n",
    "        if (vals[0] != 'O'):\n",
    "            newWords = []\n",
    "            if words[i].endswith(\"-\"):\n",
    "                newWords.append(words[i][:-1])\n",
    "            else:\n",
    "                if words[i][0].isdigit() and \"-\" in words[i]:\n",
    "                    splitV = words[i].split(\"-\")\n",
    "                    newWords.extend(splitV)\n",
    "                else:\n",
    "                    newWords.append(words[i])\n",
    "            currentList.extend(newWords)\n",
    "    return result"
   ]
  },
  {
   "cell_type": "code",
   "execution_count": 15,
   "metadata": {},
   "outputs": [],
   "source": [
    "def process_sentenceSOL(sentence):\n",
    "    writeInput(sentence)\n",
    "    runOutFile()\n",
    "    return getResult()"
   ]
  },
  {
   "cell_type": "code",
   "execution_count": 16,
   "metadata": {},
   "outputs": [],
   "source": [
    "def argXargM(label1, label2):\n",
    "    if (label1 == 'ARG2' or label1 == 'ARG3') and (label2 == 'ARGM-LOC' or label2 == 'ARGM-MNR' or label2 == 'ARGM-ADV' or label2 == 'ARGM-EXT' or label2 == 'ARGM-PRP'):\n",
    "            return True\n",
    "    return False"
   ]
  },
  {
   "cell_type": "code",
   "execution_count": 17,
   "metadata": {},
   "outputs": [],
   "source": [
    "def argSimilar(label1, label2):\n",
    "    if (label1 == 'ARGM-LOC' and label2 == 'ARGM-DIR'):\n",
    "        return True\n",
    "    if (label1 == 'ARGM-MNR' and label2 == 'ARGM-DIR'):\n",
    "        return True\n",
    "    if (label1 == 'ARGM-MNR' and label2 == 'ARGM-ADV'):\n",
    "        return True\n",
    "    if (label1 == 'ARG2' and label2 == 'ARG3'):\n",
    "        return True\n",
    "    if (label1 == 'ARG2' and label2 == 'ARG4'):\n",
    "        return True\n",
    "    return False"
   ]
  },
  {
   "cell_type": "code",
   "execution_count": 18,
   "metadata": {},
   "outputs": [],
   "source": [
    "def similarLabels(label1, label2):\n",
    "    result = argXargM(label1, label2)\n",
    "    if result:\n",
    "        return result\n",
    "    result = argXargM(label2, label1)\n",
    "    if result:\n",
    "        return result\n",
    "    result = argSimilar(label1, label2)\n",
    "    if result:\n",
    "        return result\n",
    "    result = argSimilar(label2, label1)\n",
    "    if result:\n",
    "        return result\n",
    "    return False"
   ]
  },
  {
   "cell_type": "code",
   "execution_count": 19,
   "metadata": {},
   "outputs": [],
   "source": [
    "def compareResult(sol1, sol2):\n",
    "    if sol1 == -1 and sol2 != -1:\n",
    "        return 0,1,-1\n",
    "    if sol1 == -1 and sol2 == -1:\n",
    "        return 0,0,-1\n",
    "    if sol1 != -1 and sol2 == -1:\n",
    "        return 1,0,-1\n",
    "\n",
    "    exact = 0\n",
    "    similar = 0\n",
    "    total = 0\n",
    "    for (label1,words1) in sol1:\n",
    "        total += len(words1)\n",
    "        foundLabel = 0\n",
    "        for (label2,words2) in sol2:\n",
    "            if label2 == label1:\n",
    "                foundLabel = 1\n",
    "                if label1 == 'V' and words1[0].startswith(words2[0]):\n",
    "                    exact +=1\n",
    "                    continue\n",
    "                if label1 == 'V' and not words1[0].startswith(words2[0]):\n",
    "                    return 1,1,-1\n",
    "                for word1 in words1:\n",
    "                    if word1 in words2:\n",
    "                        exact += 1\n",
    "        if foundLabel == 0:\n",
    "            for (label2,words2) in sol2:\n",
    "                if similarLabels(label1, label2):\n",
    "                    foundLabel = 1\n",
    "                    for word1 in words1:\n",
    "                        if word1 in words2:\n",
    "                            similar += 1\n",
    "                            \n",
    "#     print(sol1)\n",
    "#     print(sol2)\n",
    "#     print(\"Exact labeling: \", exact)\n",
    "#     print(\"Similar labeling: \", similar)\n",
    "    match = (exact+similar)*100/total\n",
    "    totalMatch = exact*100/total\n",
    "#     print(\"Match percent: \", match)\n",
    "#     print(\"Total match: \", totalMatch)\n",
    "#     print(\"\\n\")\n",
    "    return 1,1,match"
   ]
  },
  {
   "cell_type": "code",
   "execution_count": 20,
   "metadata": {},
   "outputs": [],
   "source": [
    "i_start = 0\n",
    "i_end = 100"
   ]
  },
  {
   "cell_type": "code",
   "execution_count": 21,
   "metadata": {
    "scrolled": true
   },
   "outputs": [
    {
     "name": "stdout",
     "output_type": "stream",
     "text": [
      "Both fail:  19\n",
      "Total:  452\n",
      "Success Allen:  328 72.56637168141593\n",
      "Success Solution:  364 80.53097345132744\n",
      "\n",
      "Matchable:  209\n",
      "Match percent:  86.16593423411605\n"
     ]
    }
   ],
   "source": [
    "total = 0\n",
    "matchable = 0\n",
    "\n",
    "successA = 0\n",
    "successS = 0\n",
    "failBoth = 0\n",
    "totalMatch = 0\n",
    "\n",
    "for index in range(i_start,i_end): \n",
    "    try:\n",
    "        step = steps[index]\n",
    "        if not isinstance(step, str):\n",
    "            continue\n",
    "        step = re.sub(r'\\([^)]*\\)', ' ', step)\n",
    "        sentences = re.split('(?<=[!?;.]) +',step)\n",
    "        for sentence in sentences:\n",
    "            sentence = sentence.strip()\n",
    "            if sentence == '' or re.match('[0-9]+.',sentence):\n",
    "                continue;\n",
    "            sentence = sentence.lower()\n",
    "            rezA = process_sentenceALLEN(sentence)\n",
    "            rezS = process_sentenceSOL(sentence)\n",
    "\n",
    "            labelsS = wordsToLabel(rezS)\n",
    "            labelsA = allenToLabel(rezA)\n",
    "            S, A, match = compareResult(labelsS, labelsA)\n",
    "            successA += A\n",
    "            successS += S\n",
    "            failBoth += (A == 0 and S == 0)\n",
    "            total+=1\n",
    "            if (S == 1 and A == 1 and match != -1):\n",
    "                matchable += 1\n",
    "                totalMatch += match\n",
    "\n",
    "    except:\n",
    "        print(index, sentence)\n",
    "        traceback.print_exc()\n",
    "        break\n",
    "\n",
    "pA = successA*100.0/total\n",
    "pS = successS*100.0/total\n",
    "\n",
    "print(\"Both fail: \", failBoth)\n",
    "print(\"Total: \",total)\n",
    "print(\"Success Allen: \",successA, pA)\n",
    "print(\"Success Solution: \", successS, pS)\n",
    "print(\"\\nMatchable: \", matchable)\n",
    "print(\"Match percent: \", totalMatch/matchable)\n"
   ]
  },
  {
   "cell_type": "code",
   "execution_count": null,
   "metadata": {},
   "outputs": [],
   "source": []
  }
 ],
 "metadata": {
  "kernelspec": {
   "display_name": "Python 3",
   "language": "python",
   "name": "python3"
  },
  "language_info": {
   "codemirror_mode": {
    "name": "ipython",
    "version": 3
   },
   "file_extension": ".py",
   "mimetype": "text/x-python",
   "name": "python",
   "nbconvert_exporter": "python",
   "pygments_lexer": "ipython3",
   "version": "3.8.5"
  }
 },
 "nbformat": 4,
 "nbformat_minor": 4
}
